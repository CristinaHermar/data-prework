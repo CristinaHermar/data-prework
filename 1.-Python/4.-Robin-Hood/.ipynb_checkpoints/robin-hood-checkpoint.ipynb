{
 "cells": [
  {
   "cell_type": "markdown",
   "metadata": {},
   "source": [
    "No entiendo este error: \"cannot unpack non-iterable int object\""
   ]
  },
  {
   "cell_type": "markdown",
   "metadata": {},
   "source": [
    "<img src=\"https://bit.ly/2VnXWr2\" width=\"100\" align=\"left\"/>"
   ]
  },
  {
   "cell_type": "markdown",
   "metadata": {},
   "source": [
    "# Robin Hood\n",
    "Robin Hood has entered a competition to win the archery contest in Sherwood. With his bow and arrows, he needs to shoot on a target and try to hit as close as possible to the center.\n",
    "\n",
    "![](images/arrows.jpg)\n",
    "\n",
    "## Context\n",
    "In this challenge, the landing position of arrows shot by archers in the competition will be represented using 2-dimensional coordinates. \n",
    "\n",
    "In the 2-dimensional space, a point can be defined by a pair of values that correspond to the horizontal coordinate (x) and the vertical coordinate (y). For example, in our case, an arrow that hits the center of the archery target will land in position (0, 0) on the coordinate axes. \n",
    "\n",
    "The space can be divided into 4 zones (quadrants): Q1, Q2, Q3, Q4. If a point is in Q1, both its x coordinate and y coordinate are positive. Any point with a null x or y coordinate is considered to not belong to any quadrant. \n",
    "\n",
    "If you want to know more about the cartesian coordinate system, you can check this [link](https://en.wikipedia.org/wiki/Cartesian_coordinate_system). \n",
    "\n",
    "## Tools\n",
    "You don't necessarily need to use all the tools. Maybe you opt to use some of them or completely different ones, they are given to help you shape the exercise. Programming exercises can be solved in many different ways.\n",
    "* Data structures: **lists, sets, tuples**\n",
    "* Conditional statements: **if-elif-else**\n",
    "* Loop: **while/for**\n",
    "* Minimum (optional sorting)\n",
    "\n",
    "## Tasks\n",
    "Robin Hood has hit the following points:"
   ]
  },
  {
   "cell_type": "code",
   "execution_count": 145,
   "metadata": {},
   "outputs": [],
   "source": [
    "points = [(4, 5), (-0, 2), (4, 7), (1, -3), (3, -2), (4, 5), (3, 2), (5, 7), (-5, 7), (2, 2), (-4, 5), (0, -2),\n",
    "          (-4, 7), (-1, 3), (-3, 2), (-4, -5), (-3, 2), (5, 7), (5, 7), (2, 2), (9, 9), (-8, -9)]\n",
    "\n",
    "#unique_points = set(points)\n",
    "#print(\"elementos en points:\", len(points))\n",
    "#print(\"elementos en unique_points:\",len(unique_points))\n"
   ]
  },
  {
   "cell_type": "markdown",
   "metadata": {},
   "source": [
    "#### 1. Robin Hood is famous for hitting an arrow with another arrow. Find the coordinates of the points where an arrow hits another arrow."
   ]
  },
  {
   "cell_type": "code",
   "execution_count": 51,
   "metadata": {
    "scrolled": true
   },
   "outputs": [
    {
     "name": "stdout",
     "output_type": "stream",
     "text": [
      "Robin Hood logró tirar sobre otra flecha en los siguientes puntos: [(4, 5), (-3, 2), (5, 7), (2, 2)]\n",
      "En estos puntos Robin Hood sólo tiró una flecha: [(4, 5), (0, 2), (4, 7), (1, -3), (3, -2), (3, 2), (5, 7), (-5, 7), (2, 2), (-4, 5), (0, -2), (-4, 7), (-1, 3), (-3, 2), (-4, -5), (9, 9), (-8, -9)]\n"
     ]
    }
   ],
   "source": [
    "repetidos = []\n",
    "unicos = []\n",
    "for point in points:\n",
    "    if point not in unicos:\n",
    "        unicos.append(point)\n",
    "    else:\n",
    "            if point not in repetidos:\n",
    "                repetidos.append(point)\n",
    "print (\"Robin Hood logró tirar sobre otra flecha en los siguientes puntos:\", repetidos)\n",
    "print (\"En estos puntos Robin Hood sólo tiró una flecha:\", unicos)"
   ]
  },
  {
   "cell_type": "markdown",
   "metadata": {},
   "source": [
    "#### 2. Calculate how many arrows have fallen in each quadrant. \n",
    "**Note**: the arrows that fall in the axis (x=0 or y=0) don't belong to any quadrant."
   ]
  },
  {
   "cell_type": "code",
   "execution_count": 52,
   "metadata": {},
   "outputs": [
    {
     "name": "stdout",
     "output_type": "stream",
     "text": [
      "En el cuadrante 1 hay:  10 flechas\n",
      "En el cuadrante 2 hay:  6 flechas\n",
      "En el cuadrante 3 hay:  2 flechas\n",
      "En el cuadrante 4 hay:  2 flechas\n"
     ]
    }
   ],
   "source": [
    "Q1 = 0\n",
    "Q2 = 0\n",
    "Q3 = 0\n",
    "Q4 = 0\n",
    "\n",
    "for x,y in points:\n",
    "    if x > 0 and y > 0:\n",
    "        Q1 += 1\n",
    "print(\"En el cuadrante 1 hay: \", Q1, \"flechas\")\n",
    "\n",
    "for x,y in points:\n",
    "    if x < 0 and y > 0:\n",
    "        Q2 += 1\n",
    "print(\"En el cuadrante 2 hay: \", Q2, \"flechas\")\n",
    "\n",
    "for x,y in points:\n",
    "    if x < 0 and y < 0:\n",
    "        Q3 += 1\n",
    "print(\"En el cuadrante 3 hay: \", Q3, \"flechas\")\n",
    "\n",
    "\n",
    "for x,y in points:\n",
    "    if x > 0 and y < 0:\n",
    "        Q4 += 1\n",
    "print(\"En el cuadrante 4 hay: \", Q4, \"flechas\")\n",
    "    \n"
   ]
  },
  {
   "cell_type": "markdown",
   "metadata": {},
   "source": [
    "#### 3. Find the point closest to the center. Calculate its distance to the center. \n",
    "Take into account that there might be more than one point at the minimum distance to the center.\n",
    "\n",
    "**Hint**: Use the Euclidean distance. You can find more information about it [here](https://en.wikipedia.org/wiki/Euclidean_distance).  \n",
    "**Hint**: Defining a function that calculates the distance to the center can help."
   ]
  },
  {
   "cell_type": "code",
   "execution_count": 121,
   "metadata": {},
   "outputs": [],
   "source": [
    "import math as m\n",
    "#help(\"math\")"
   ]
  },
  {
   "cell_type": "code",
   "execution_count": 122,
   "metadata": {},
   "outputs": [],
   "source": [
    "from math import sqrt"
   ]
  },
  {
   "cell_type": "code",
   "execution_count": 150,
   "metadata": {},
   "outputs": [
    {
     "data": {
      "text/plain": [
       "\"\\n#Notas: \\n#1. No necesitamos poner x2 y y2 porque siempre será cero, por lo tanto basta\\n#basta con elevar al cuadrado la primera x, y\\n#2. El argumento definido por punto, en la variable 'a' se refiere al primer \\n#elemento de la tupla, mientras que b se refiere al segundo elemento de la \\n#tupla.\\n\\n\""
      ]
     },
     "execution_count": 150,
     "metadata": {},
     "output_type": "execute_result"
    }
   ],
   "source": [
    "def disteuc(punto):\n",
    "    a = punto [0]\n",
    "    b = punto [1]\n",
    "    distancia = math.sqrt(a**2 + b**2)\n",
    "    return distancia\n",
    "\n",
    "'''\n",
    "#Notas: \n",
    "#1. No necesitamos poner x2 y y2 porque siempre será cero, por lo tanto basta\n",
    "#basta con elevar al cuadrado la primera x, y\n",
    "#2. El argumento definido por punto, en la variable 'a' se refiere al primer \n",
    "#elemento de la tupla, mientras que b se refiere al segundo elemento de la \n",
    "#tupla.\n",
    "\n",
    "'''\n"
   ]
  },
  {
   "cell_type": "code",
   "execution_count": 151,
   "metadata": {},
   "outputs": [
    {
     "name": "stdout",
     "output_type": "stream",
     "text": [
      "La distancia mínica es: 2.0 y está en el índice:  1 , con las puntos cartesianos:  (0, 2)\n"
     ]
    }
   ],
   "source": [
    "distancias = []\n",
    "for i in points:\n",
    "    distancias.append(round(disteuc(i),1)) #el 1 redondea con un dígito\n",
    "#print(distancias)\n",
    "\n",
    "print (\"La distancia mínica es:\", min(distancias), \"y está en el índice: \", \n",
    "       distancias.index(min(distancias)), \", con las puntos cartesianos: \", points[1])\n"
   ]
  },
  {
   "cell_type": "markdown",
   "metadata": {},
   "source": [
    "#### 4. If the archery target has a radius of 9, calculate the number of arrows that won't hit the target. \n",
    "**Hint**: Use the function created in step 3. \n"
   ]
  },
  {
   "cell_type": "code",
   "execution_count": 152,
   "metadata": {},
   "outputs": [
    {
     "name": "stdout",
     "output_type": "stream",
     "text": [
      "[6.4, 2.0, 8.1, 3.2, 3.6, 6.4, 3.6, 8.6, 8.6, 2.8, 6.4, 2.0, 8.1, 3.2, 3.6, 6.4, 3.6, 8.6, 8.6, 2.8, 12.7, 12.0]\n"
     ]
    }
   ],
   "source": [
    "print(distancias)"
   ]
  },
  {
   "cell_type": "code",
   "execution_count": 167,
   "metadata": {},
   "outputs": [
    {
     "name": "stdout",
     "output_type": "stream",
     "text": [
      "2 flechas no dieron en el blanco\n"
     ]
    }
   ],
   "source": [
    "mayor9=[]\n",
    "for i in distancias: \n",
    "    if i >9:\n",
    "        mayor9.append(i)\n",
    "#print(mayor9)\n",
    "print(len(mayor9), \"flechas no dieron en el blanco\")"
   ]
  }
 ],
 "metadata": {
  "kernelspec": {
   "display_name": "Python 3",
   "language": "python",
   "name": "python3"
  },
  "language_info": {
   "codemirror_mode": {
    "name": "ipython",
    "version": 3
   },
   "file_extension": ".py",
   "mimetype": "text/x-python",
   "name": "python",
   "nbconvert_exporter": "python",
   "pygments_lexer": "ipython3",
   "version": "3.8.5"
  }
 },
 "nbformat": 4,
 "nbformat_minor": 2
}
