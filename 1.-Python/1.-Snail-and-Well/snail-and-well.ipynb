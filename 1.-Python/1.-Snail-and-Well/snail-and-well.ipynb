{
 "cells": [
  {
   "cell_type": "markdown",
   "metadata": {},
   "source": [
    "# The Snail and the Well\n",
    "\n",
    "A snail falls at the bottom of a 125 cm well. Each day the snail rises 30 cm. But at night, while sleeping, slides 20 cm because the walls are wet. How many days does it take for the snail to escape the well?\n",
    "\n",
    "**Hint**: The snail gets out of the well when it surpasses the 125cm of height.\n",
    "\n",
    "## Tools\n",
    "\n",
    "1. Loop: **while**\n",
    "2. Conditional statements: **if-else**\n",
    "3. Function: **print()**\n",
    "\n",
    "## Tasks\n",
    "\n",
    "#### 1. Assign the challenge data to variables with representative names: `well_height`, `daily_distance`, `nightly_distance` and `snail_position`."
   ]
  },
  {
   "cell_type": "code",
   "execution_count": null,
   "metadata": {},
   "outputs": [],
   "source": [
    "distancia_total = 125\n",
    "distancia_dia = 30\n",
    "distancia_noche = -20 \n",
    "posicion_caracol = 0"
   ]
  },
  {
   "cell_type": "markdown",
   "metadata": {},
   "source": [
    "#### 2. Create a variable `days` to keep count of the days that pass until the snail escapes the well. "
   ]
  },
  {
   "cell_type": "code",
   "execution_count": null,
   "metadata": {},
   "outputs": [],
   "source": [
    "dias = 0"
   ]
  },
  {
   "cell_type": "markdown",
   "metadata": {},
   "source": [
    "#### 3. Find the solution to the challenge using the variables defined above. "
   ]
  },
  {
   "cell_type": "code",
   "execution_count": null,
   "metadata": {
    "scrolled": true
   },
   "outputs": [],
   "source": [
    "while posicion_caracol < distancia_total:\n",
    "    if dias == 0:\n",
    "        posicion_caracol += distancia_dia + distancia_noche\n",
    "        dias += 1\n",
    "        print (\"La serpiente empezó a subir, está en el día 1er día\")\n",
    "    else:\n",
    "        posicion_caracol += distancia_dia + distancia_noche\n",
    "        dias += 1\n",
    "        print (\"La serpiente lleva\", dias, \"días\")\n"
   ]
  },
  {
   "cell_type": "markdown",
   "metadata": {},
   "source": [
    "#### 4. Print the solution."
   ]
  },
  {
   "cell_type": "code",
   "execution_count": null,
   "metadata": {},
   "outputs": [],
   "source": [
    "print(\"El caracol llegó en \",dias,\"días\")"
   ]
  },
  {
   "cell_type": "markdown",
   "metadata": {},
   "source": [
    "## Bonus\n",
    "The distance traveled by the snail each day is now defined by a list.\n",
    "```\n",
    "advance_cm = [30, 21, 33, 77, 44, 45, 23, 45, 12, 34, 55]\n",
    "```\n",
    "On the first day, the snail rises 30cm but during the night it slides 20cm. On the second day, the snail rises 21cm but during the night it slides 20cm, and so on. \n",
    "\n",
    "#### 1. How many days does it take for the snail to escape the well?\n",
    "Follow the same guidelines as in the previous challenge.\n",
    "\n",
    "**Hint**: Remember that the snail gets out of the well when it surpasses the 125cm of height."
   ]
  },
  {
   "cell_type": "code",
   "execution_count": 21,
   "metadata": {},
   "outputs": [],
   "source": [
    "advance_cm = [30, 21, 33, 77, 44, 45, 23, 45, 12, 34, 55]"
   ]
  },
  {
   "cell_type": "code",
   "execution_count": 11,
   "metadata": {},
   "outputs": [],
   "source": [
    "distancia_total = 125\n",
    "distancia_dia = 30\n",
    "distancia_noche = -20 \n",
    "posicion_caracol = 0"
   ]
  },
  {
   "cell_type": "code",
   "execution_count": null,
   "metadata": {
    "scrolled": true
   },
   "outputs": [],
   "source": [
    "for avance in advance_cm:\n",
    "    retrocede = posicion_caracol + avance + distancia_noche\n",
    "    print (retrocede)"
   ]
  },
  {
   "cell_type": "code",
   "execution_count": null,
   "metadata": {},
   "outputs": [],
   "source": [
    "avance_total = 0 \n",
    "\n",
    "for avance in advance_cm: \n",
    "    avance_total += avance - 20\n",
    "    print(avance_total)"
   ]
  },
  {
   "cell_type": "code",
   "execution_count": null,
   "metadata": {},
   "outputs": [],
   "source": [
    "dias = 0\n",
    "avance_total=0\n",
    "while avance_total < 126: \n",
    "    avance_total = avance_total - 20 + advance_cm[dias]\n",
    "    dias +=1\n",
    "    #if avance_total < 126: \n",
    "     #   avance_total = avance_total -20      \n",
    "else: \n",
    "    print (\"Han pasado\", dias, \"días\")"
   ]
  },
  {
   "cell_type": "markdown",
   "metadata": {},
   "source": [
    "#### 2. What is its maximum displacement in one day? And its minimum? Calculate the displacement using only the travel distance of the days used to get out of the well. \n",
    "**Hint**: Remember that displacement means the total distance risen taking into account that the snail slides at night.  "
   ]
  },
  {
   "cell_type": "code",
   "execution_count": 30,
   "metadata": {
    "scrolled": false
   },
   "outputs": [
    {
     "name": "stdout",
     "output_type": "stream",
     "text": [
      "El desplazamiento mínimo del caracol durante los 6 días fue de:  1\n",
      "El desplazamiento máximo del caracol durante los 6 días fue de:  57\n"
     ]
    }
   ],
   "source": [
    "retrocedelist=[]\n",
    "for avance in advance_cm:\n",
    "    retrocede = posicion_caracol + avance + distancia_noche\n",
    "    retrocedelist.append(retrocede)\n",
    "    #print (retrocede)\n",
    "#print(retrocedelist)\n",
    "print(\"El desplazamiento mínimo del caracol durante los 6 días fue de: \" ,min(retrocedelist[0:6]))\n",
    "print(\"El desplazamiento máximo del caracol durante los 6 días fue de: \",max(retrocedelist [0:6]))"
   ]
  },
  {
   "cell_type": "markdown",
   "metadata": {},
   "source": [
    "#### 3. What is its average progress? Take into account the snail slides at night."
   ]
  },
  {
   "cell_type": "code",
   "execution_count": 43,
   "metadata": {},
   "outputs": [
    {
     "name": "stdout",
     "output_type": "stream",
     "text": [
      "El avance promedio del caracol durante esos 6 días fue de:  22\n"
     ]
    }
   ],
   "source": [
    "promedio= round(sum(retrocedelist[0:6])/6)\n",
    "print(\"El avance promedio del caracol durante esos 6 días fue de: \",promedio)"
   ]
  },
  {
   "cell_type": "markdown",
   "metadata": {},
   "source": [
    "#### 4. What is the standard deviation of its displacement? Take into account the snail slides at night."
   ]
  },
  {
   "cell_type": "code",
   "execution_count": 60,
   "metadata": {},
   "outputs": [
    {
     "name": "stdout",
     "output_type": "stream",
     "text": [
      "[10, 1, 13, 57, 24, 25]\n",
      "La desviación estandar de estos 6 días es de: 85 cm\n"
     ]
    }
   ],
   "source": [
    "import math\n",
    "cuadrado=[]\n",
    "print(retrocedelist[0:6])\n",
    "for i in retrocedelist[0:6]: \n",
    "    varpaso1= i - promedio\n",
    "    cuadrado.append(varpaso1)\n",
    "varpaso2= [i*i for i in cuadrado]\n",
    "varpaso3 = sum (varpaso2)\n",
    "varpaso4 = math.trunc (varpaso3 / promedio - 1)\n",
    "\n",
    "#print(cuadrado)\n",
    "#print (varpaso2)\n",
    "#print(varpaso3)\n",
    "print (\"La desviación estandar de estos 6 días es de:\" ,varpaso4, \"cm\")"
   ]
  }
 ],
 "metadata": {
  "kernelspec": {
   "display_name": "Python 3",
   "language": "python",
   "name": "python3"
  },
  "language_info": {
   "codemirror_mode": {
    "name": "ipython",
    "version": 3
   },
   "file_extension": ".py",
   "mimetype": "text/x-python",
   "name": "python",
   "nbconvert_exporter": "python",
   "pygments_lexer": "ipython3",
   "version": "3.8.5"
  }
 },
 "nbformat": 4,
 "nbformat_minor": 2
}
